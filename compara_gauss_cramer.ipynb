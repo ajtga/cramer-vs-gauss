{
 "cells": [
  {
   "cell_type": "markdown",
   "metadata": {},
   "source": [
    "# Comparação entre métodos diretos para solução de sistema de equações lineares"
   ]
  },
  {
   "cell_type": "markdown",
   "metadata": {},
   "source": [
    "## Objetivo"
   ]
  },
  {
   "cell_type": "markdown",
   "metadata": {},
   "source": [
    "<div style=\"text-align: justify\">O presente trabalho tem como objetivo implementar e comparar dois métodos numéricos que solucionam sistemas de equações lineares, sendo um deles estudado em sala de aula. Sendo assim, foram escolhidos dois métodos diretos, a Regra de Cramer e o método de Eliminação de Gauss (visto em aula), ambos métodos diretos, que levam a solução real do problema.</div>"
   ]
  },
  {
   "cell_type": "markdown",
   "metadata": {},
   "source": [
    "## Fundamentação Teórica"
   ]
  },
  {
   "cell_type": "markdown",
   "metadata": {},
   "source": [
    "<div style=\"text-align: justify\">Um sistema de equações lineares pode ser definido como um conjunto finito de equações da forma: $[a_1x_1 + a_2x_2 + ... + a_nx_n = b]$ , lineares nas mesmas variáveis $[x_1, x_2, ..., x_n]$ . Uma solução de um sistema de equação linear é um vetor $[x_1, x_2, ..., x_n]$ que satisfaça simultaneamente todas as equações. Dois sistemas de equações lineares são equivalentes se, e somente se toda solução de qualquer um dos sistemas também é solução do outro.</div>\n",
    "</br>\n",
    "<div style=\"text-align: justify\">Os métodos diretos dão a solução exata do sistema linear, entretanto, o número de ações é finita. Tais métodos requerem operações da ordem de $n!$ , ou seja, envolve um grande número de operações que é refletido no tempo de resolução. Estes ainda possuem problemas quanto a questão dos erros de arredondamento, uma forma de amenizá-los é utilizar o pivoteamento na matriz ampliada.</div>\n",
    "</br>\n",
    "<div style=\"text-align: justify\">Em comparação aos métodos iterativos ou indiretos, estes são mais apropriados para sistemas grandes, mais usados no cotidiano e demandam menor número de operações, entretanto resultados exatos não são obtidos diretamente e são necessárias certa quantidade de iterações, além de estudos de convergência para garantia de que a resposta aproximada seja satisfatória. Os erros de arredondamento não são um problema para tais métodos, uma vez que não dependem da aproximação inicial, apenas erros cometidos na última iteração influenciam.</div>\n",
    "</br>\n",
    "<div style=\"text-align: justify\">Para aplicar a Regra de Cramer é necessário encontrar o determinante da matriz dos coeficientes e os determinantes resultantes da substituição da coluna i da matriz dos coeficientes pelo vetor dos termos independentes. A solução de cada variável é dada pela divisão entre o determinante da matriz substituição e a matriz dos coeficientes.</div>\n",
    "</br>\n",
    "<div style=\"text-align: justify\">O método de Eliminação de Gauss reduz o tempo de execução em relação a regra de Cramer. A ideia é transformar o sistema linear em uma matriz triangular superior, por meio do pivoteamento,e a partir dessa isolar as variáveis e achar sua solução.</div>"
   ]
  },
  {
   "cell_type": "markdown",
   "metadata": {},
   "source": [
    "## Implementação dos algoritmos utilizando a linguagem de programação Python"
   ]
  },
  {
   "cell_type": "markdown",
   "metadata": {},
   "source": [
    "#### Importando bibliotecas necessárias"
   ]
  },
  {
   "cell_type": "code",
   "execution_count": 1,
   "metadata": {},
   "outputs": [],
   "source": [
    "import numpy as np  # para calcular o determinante no método de Cramer\n",
    "from datetime import datetime  # para verificar o tempo utilizado para a execução das funções"
   ]
  },
  {
   "cell_type": "code",
   "execution_count": 2,
   "metadata": {},
   "outputs": [],
   "source": [
    "det = np.linalg.det\n",
    "agora = datetime.now"
   ]
  },
  {
   "cell_type": "markdown",
   "metadata": {},
   "source": [
    "#### Definição de função para o método de Cramer"
   ]
  },
  {
   "cell_type": "code",
   "execution_count": 3,
   "metadata": {},
   "outputs": [],
   "source": [
    "def cramer(matriz, vetor):\n",
    "    n = matriz.shape[0]\n",
    "    x = []\n",
    "    for coluna in range(n):\n",
    "        matriz_substituida = matriz.copy()\n",
    "        for linha in range(n):\n",
    "            matriz_substituida[linha, coluna] = vetor[linha]\n",
    "        x.append(det(matriz_substituida) / det(matriz))\n",
    "    return x"
   ]
  },
  {
   "cell_type": "markdown",
   "metadata": {},
   "source": [
    "#### Definição de funções para o método de Gauss"
   ]
  },
  {
   "cell_type": "code",
   "execution_count": 4,
   "metadata": {},
   "outputs": [],
   "source": [
    "def escalonamento(matriz, vetor):\n",
    "    for t in range(len(matriz)):\n",
    "        elemento = matriz[t][t]\n",
    "        if elemento == 0:  # Verifica se há a necessidade de fazer o pivoteamento.\n",
    "            for h in range(t, len(matriz)):\n",
    "                if abs(matriz[h][t]) > abs(matriz[t][t]):\n",
    "                    matriz[h], matriz[t] = matriz[t], matriz[h]\n",
    "                    vetor[h], vetor[t] = vetor[t], vetor[h]\n",
    "        for a in range(t + 1, len(matriz)):  # Transforma a matriz recebida em matriz triangular superior.\n",
    "            pivo = matriz[a][t] / matriz[t][t]\n",
    "            for b in range(0, len(matriz)):\n",
    "                matriz[a][b] -= (pivo * matriz[t][b])\n",
    "            vetor[a] -= pivo * vetor[t]\n",
    "    return matriz, vetor\n",
    "\n",
    "\n",
    "def resolve_sistema(matriz, vetor):\n",
    "    op = len(matriz) - 1\n",
    "    xi = [0] * len(matriz)\n",
    "    xi[op] = vetor[op] / matriz[op][op]\n",
    "    for i in range(op - 1, -1, -1):\n",
    "        p = 0\n",
    "        for j in range(i + 1, op + 1):\n",
    "            p += matriz[i][j] * xi[j]\n",
    "        xi[i] = (vetor[i] - p) / matriz[i][i]\n",
    "    return xi"
   ]
  },
  {
   "cell_type": "markdown",
   "metadata": {},
   "source": [
    "## Teste de performance para uma matriz quadrada de ordem 100"
   ]
  },
  {
   "cell_type": "markdown",
   "metadata": {},
   "source": [
    "#### Geração de uma matriz aleatória 100x100"
   ]
  },
  {
   "cell_type": "code",
   "execution_count": 5,
   "metadata": {},
   "outputs": [
    {
     "name": "stdout",
     "output_type": "stream",
     "text": [
      "[[0.64404753 0.17762577 0.5710427  ... 0.73223732 0.15526723 0.18317951]\n",
      " [0.61690476 0.38728433 0.43170873 ... 0.18522848 0.60442429 0.67291904]\n",
      " [0.34867406 0.85008282 0.76461584 ... 0.99653713 0.44343252 0.40096016]\n",
      " ...\n",
      " [0.05915873 0.49070296 0.30285052 ... 0.50758198 0.77218615 0.55957307]\n",
      " [0.13822228 0.47693145 0.08976429 ... 0.4356869  0.97576123 0.94187246]\n",
      " [0.78246093 0.12635036 0.92179034 ... 0.42631637 0.76772819 0.13982224]]\n"
     ]
    }
   ],
   "source": [
    "matriz_A1 = np.random.rand(100, 100)\n",
    "print(matriz_A1)"
   ]
  },
  {
   "cell_type": "markdown",
   "metadata": {},
   "source": [
    "#### Geração de um vetor com 100 elementos"
   ]
  },
  {
   "cell_type": "code",
   "execution_count": 6,
   "metadata": {},
   "outputs": [
    {
     "name": "stdout",
     "output_type": "stream",
     "text": [
      "[0.02189249 0.15594583 0.72253615 0.08845494 0.91656971 0.46280687\n",
      " 0.52712722 0.21103745 0.60844358 0.2004339  0.94891108 0.93264747\n",
      " 0.90336752 0.38084237 0.00444357 0.58960485 0.32981639 0.73656235\n",
      " 0.05498511 0.18672183 0.14331949 0.55394416 0.89161717 0.90377445\n",
      " 0.64762306 0.0977771  0.67706712 0.83442852 0.2404246  0.58876751\n",
      " 0.48355026 0.21834699 0.76039053 0.10144419 0.86071613 0.95171323\n",
      " 0.11006602 0.10713679 0.33618491 0.03160581 0.3132846  0.71075093\n",
      " 0.40021801 0.65588926 0.28544897 0.85542487 0.78558856 0.88975729\n",
      " 0.80455055 0.00312129 0.69125451 0.43171253 0.72054295 0.58531086\n",
      " 0.07266323 0.30006673 0.7451556  0.14042483 0.67772001 0.47340982\n",
      " 0.80797534 0.18368792 0.85324514 0.39809447 0.7258095  0.13312055\n",
      " 0.20756456 0.02870997 0.95596763 0.25225854 0.67439045 0.85297731\n",
      " 0.60023512 0.59028969 0.8017523  0.4401422  0.96976939 0.78554826\n",
      " 0.84451242 0.83058403 0.78711162 0.86099736 0.82096985 0.64713664\n",
      " 0.60335285 0.24251166 0.92553094 0.26423276 0.6892377  0.27129071\n",
      " 0.04320512 0.9016033  0.95286004 0.26735269 0.41753248 0.95568312\n",
      " 0.17616053 0.67104991 0.75128597 0.10019481]\n"
     ]
    }
   ],
   "source": [
    "vetor_b1 = np.random.rand(100)\n",
    "print(vetor_b1)"
   ]
  },
  {
   "cell_type": "markdown",
   "metadata": {},
   "source": [
    "#### Método de Cramer"
   ]
  },
  {
   "cell_type": "code",
   "execution_count": 7,
   "metadata": {},
   "outputs": [
    {
     "name": "stdout",
     "output_type": "stream",
     "text": [
      "Solução:\n",
      "\n",
      "[-0.4784 -0.3644 -0.6322  0.0465 -0.4406 -0.0481 -0.0152 -1.2247  0.2426\n",
      " -0.5839  0.1841 -0.6466  0.7091 -0.6235  0.9779 -0.5047 -0.6097 -0.2261\n",
      " -1.2721  0.7773  1.43    0.3916  0.8688 -0.1659 -0.3701  0.7948  0.6513\n",
      "  0.9123 -0.0184 -0.8629  0.4268 -0.0963  0.5811  0.9163  1.0943 -0.2081\n",
      "  0.3716  0.2053  0.092   0.0144 -0.3785  0.5898 -0.3507  0.2432  0.4931\n",
      "  1.4869 -0.0094  0.2329 -1.3614  1.1107  0.2022  0.1623 -0.1604  0.6973\n",
      "  1.0859  0.5561 -0.1844 -0.5591  0.0016 -0.8718  0.76   -0.1569 -0.332\n",
      "  0.5429 -0.7102 -0.1075 -0.5615 -0.9891 -1.1784  0.3761  0.5785 -0.1023\n",
      " -0.3913 -0.6335  1.3117  0.43    0.265  -1.3782  0.3237  0.8766  0.623\n",
      " -1.3625  0.3677 -0.3115 -0.2087  0.3796  0.0226  1.1436 -0.5036 -0.5438\n",
      " -0.4827  0.5631  0.5509 -0.3838 -0.8296 -0.2071 -0.9985  0.7852 -1.0527\n",
      " -0.7713]\n",
      "\n",
      "Tempo utilizado para solucionar o sistema (h:mm:ss):  0:00:02.376745\n"
     ]
    }
   ],
   "source": [
    "t1 = datetime.now()\n",
    "x1 = cramer(matriz_A1, vetor_b1)\n",
    "t2 = datetime.now()\n",
    "deltaT1 = t2 - t1\n",
    "x1 = np.round(x1, 4)\n",
    "print('Solução:\\n')\n",
    "print(x1)\n",
    "print('\\nTempo utilizado para solucionar o sistema (h:mm:ss): ', deltaT1)"
   ]
  },
  {
   "cell_type": "markdown",
   "metadata": {},
   "source": [
    "#### Método de Gauss"
   ]
  },
  {
   "cell_type": "code",
   "execution_count": 8,
   "metadata": {},
   "outputs": [
    {
     "name": "stdout",
     "output_type": "stream",
     "text": [
      "Solução:\n",
      "\n",
      "[-0.4784 -0.3644 -0.6322  0.0465 -0.4406 -0.0481 -0.0152 -1.2247  0.2426\n",
      " -0.5839  0.1841 -0.6466  0.7091 -0.6235  0.9779 -0.5047 -0.6097 -0.2261\n",
      " -1.2721  0.7773  1.43    0.3916  0.8688 -0.1659 -0.3701  0.7948  0.6513\n",
      "  0.9123 -0.0184 -0.8629  0.4268 -0.0963  0.5811  0.9163  1.0943 -0.2081\n",
      "  0.3716  0.2053  0.092   0.0144 -0.3785  0.5898 -0.3507  0.2432  0.4931\n",
      "  1.4869 -0.0094  0.2329 -1.3614  1.1107  0.2022  0.1623 -0.1604  0.6973\n",
      "  1.0859  0.5561 -0.1844 -0.5591  0.0016 -0.8718  0.76   -0.1569 -0.332\n",
      "  0.5429 -0.7102 -0.1075 -0.5615 -0.9891 -1.1784  0.3761  0.5785 -0.1023\n",
      " -0.3913 -0.6335  1.3117  0.43    0.265  -1.3782  0.3237  0.8766  0.623\n",
      " -1.3625  0.3677 -0.3115 -0.2087  0.3796  0.0226  1.1436 -0.5036 -0.5438\n",
      " -0.4827  0.5631  0.5509 -0.3838 -0.8296 -0.2071 -0.9985  0.7852 -1.0527\n",
      " -0.7713]\n",
      "\n",
      "Tempo utilizado para solucionar o sistema (h:mm:ss):  0:00:00.064986\n"
     ]
    }
   ],
   "source": [
    "matriz_A2 = matriz_A1.tolist()\n",
    "vetor_b2 = vetor_b1.tolist()\n",
    "\n",
    "t3 = datetime.now()\n",
    "matriz_A2, vetor_b2 = escalonamento(matriz_A2, vetor_b2)\n",
    "x2 = resolve_sistema(matriz_A2, vetor_b2)\n",
    "t4 = datetime.now()\n",
    "deltaT2 = t4 - t3\n",
    "\n",
    "x2 = np.array(x2)\n",
    "x2 = np.round(x2, 4)\n",
    "print('Solução:\\n')\n",
    "print(x2)\n",
    "print('\\nTempo utilizado para solucionar o sistema (h:mm:ss): ', deltaT2)"
   ]
  },
  {
   "cell_type": "markdown",
   "metadata": {},
   "source": [
    "#### Diferença de performance"
   ]
  },
  {
   "cell_type": "code",
   "execution_count": 9,
   "metadata": {},
   "outputs": [
    {
     "name": "stdout",
     "output_type": "stream",
     "text": [
      "O método de Gauss foi cerca de 37x mais rápido do que o de Cramer para a matriz de ordem 100 em questão.\n"
     ]
    }
   ],
   "source": [
    "print(f\"O método de Gauss foi cerca de {round(deltaT1 / deltaT2)}x mais rápido do que\\\n",
    " o de Cramer para a matriz de ordem {matriz_A1.shape[0]} em questão.\")"
   ]
  },
  {
   "cell_type": "markdown",
   "metadata": {},
   "source": [
    "## Teste de performance para matrizes de diferentes tamanhos"
   ]
  },
  {
   "cell_type": "markdown",
   "metadata": {},
   "source": [
    "O gráfico abaixo mostra os tempos de execução de cada um dos dois métodos para cada matriz de ordem $n$ (onde $2 <= n <= 500$ ). Apenas o tempo de execução das funções `cramer`, `escalonamento` e `resolve_sistema` definidas acima foi considerado. O teste foi repetido por 3 vezes e obteve resultados semelhantes."
   ]
  },
  {
   "cell_type": "markdown",
   "metadata": {},
   "source": [
    "![Grafico](/cramer_vs_gauss.png)"
   ]
  },
  {
   "cell_type": "markdown",
   "metadata": {},
   "source": [
    "<div style=\"text-align: center\">Gráfico 1: Tempo de execução em função da ordem da matriz. Fonte: autores (2019).</div>"
   ]
  },
  {
   "cell_type": "markdown",
   "metadata": {},
   "source": [
    "## Conclusão "
   ]
  },
  {
   "cell_type": "markdown",
   "metadata": {},
   "source": [
    "<div style=\"text-align: justify\">Os métodos numéricos para resolução de sistemas de equações lineares possuem diferentes gastos computacionais, quando implementados. De acordo com a literatura, os métodos diretos geralmente demandam maior tempo de execução, apesar de não serem interativos. Porém, os métodos diretos, quando comparados entre si, também apresentam diferentes performances. No presente trabalho foi possível comparar, por implementação, o tempo de execução de dois métodos diretos: a Regra de Cramer e o método de Eliminação de Gauss para um mesmo sistema de equação linear.</div>\n",
    "</br>\n",
    "<div style=\"text-align: justify\">Tendo em vista a matriz de coeficientes testada (100 x 100), a Regra de Cramer levou 2.376745 segundos para obter a solução enquanto que o método de Eliminação de Gauss se demonstrou mais aplicável com um tempo de 0.064986 segundos.</div>\n",
    "</br>\n",
    "<div style=\"text-align: justify\">Portanto, no presente exemplo em estudo, o método de  Eliminação de Gauss foi cerca de 37 vezes mais rápido que a Regra de Cramer. Ao realizar testes com diferentes tamanhos de matrizes, foi possível perceber que quanto maior o sistema de equações lineares, menos eficiente se torna a Regra de Cramer para a sua resolução, devido ao seu elevado custo operacional.</div>"
   ]
  },
  {
   "cell_type": "markdown",
   "metadata": {},
   "source": [
    "## Referências"
   ]
  },
  {
   "cell_type": "markdown",
   "metadata": {},
   "source": [
    "LIRA, W. W. M. Apostila de Cálculo Numérico. 2009.\n",
    "</br>\n",
    "JUNIOR, A. J. Implementação de Métodos Iterativos e Computacionais para Resolução de Sistemas de Equações Lineares: um Estudo Aplicado. 2015"
   ]
  },
  {
   "cell_type": "markdown",
   "metadata": {},
   "source": [
    "## Sobre\n",
    "\n",
    "Relatório elaborado por Beatriz e Marcos para complementar atividade avaliativa da disciplina de Cáclulo Numérico."
   ]
  }
 ],
 "metadata": {
  "kernelspec": {
   "display_name": "Python 3",
   "language": "python",
   "name": "python3"
  },
  "language_info": {
   "codemirror_mode": {
    "name": "ipython",
    "version": 3
   },
   "file_extension": ".py",
   "mimetype": "text/x-python",
   "name": "python",
   "nbconvert_exporter": "python",
   "pygments_lexer": "ipython3",
   "version": "3.6.5"
  }
 },
 "nbformat": 4,
 "nbformat_minor": 2
}
